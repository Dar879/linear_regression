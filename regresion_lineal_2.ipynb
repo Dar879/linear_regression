{
 "cells": [
  {
   "cell_type": "code",
   "execution_count": 1,
   "id": "83ce9444",
   "metadata": {},
   "outputs": [],
   "source": [
    "import pandas as pd\n",
    "import numpy as np\n",
    "import matplotlib.pyplot as plt"
   ]
  },
  {
   "cell_type": "code",
   "execution_count": 2,
   "id": "2e67af43",
   "metadata": {},
   "outputs": [],
   "source": [
    "def calcular_modelo(w,b,x):\n",
    "    return w*x+b"
   ]
  },
  {
   "cell_type": "code",
   "execution_count": 3,
   "id": "85a23628",
   "metadata": {},
   "outputs": [],
   "source": [
    "def calcular_error(y,y_):\n",
    "    N=y.shape[0]\n",
    "    error=np.sum((y-y_)**2)/2\n",
    "    return error"
   ]
  },
  {
   "cell_type": "code",
   "execution_count": 4,
   "id": "721fa30f",
   "metadata": {},
   "outputs": [],
   "source": [
    "def gradiente_descendente(w_,b_,alpha,x,y):\n",
    "    N=x.shape[0]\n",
    "    dw = -(2/N)*np.sum(x*(y-(w_*x+b_)))\n",
    "    db = -(2/N)*np.sum(y-(w_*x+b_))\n",
    "    w= w_-alpha*dw\n",
    "    b= b_-alpha*db\n",
    "\n",
    "    return w,b"
   ]
  },
  {
   "cell_type": "code",
   "execution_count": 6,
   "id": "50c915dc",
   "metadata": {},
   "outputs": [
    {
     "name": "stdout",
     "output_type": "stream",
     "text": [
      "    Age  Systolic blood pressure\n",
      "0    39                      144\n",
      "1    45                      138\n",
      "2    47                      145\n",
      "3    65                      162\n",
      "4    46                      142\n",
      "5    67                      170\n",
      "6    42                      124\n",
      "7    67                      158\n",
      "8    56                      154\n",
      "9    64                      162\n",
      "10   56                      150\n",
      "11   59                      140\n",
      "12   34                      110\n",
      "13   42                      128\n",
      "14   48                      130\n",
      "15   45                      135\n",
      "16   17                      114\n",
      "17   20                      116\n",
      "18   19                      124\n",
      "19   36                      136\n",
      "20   50                      142\n",
      "21   39                      120\n",
      "22   21                      120\n",
      "23   44                      160\n",
      "24   53                      158\n",
      "25   63                      144\n",
      "26   29                      130\n",
      "27   25                      125\n",
      "28   69                      175\n"
     ]
    }
   ],
   "source": [
    "datos = pd.read_csv('dataset.csv', sep=',', skiprows=32, usecols=[2,3])\n",
    "print(datos)"
   ]
  },
  {
   "cell_type": "code",
   "execution_count": 7,
   "id": "df7177bc",
   "metadata": {},
   "outputs": [
    {
     "data": {
      "text/plain": [
       "Text(0, 0.5, 'Presion  sistolica (mm de mercurio)')"
      ]
     },
     "execution_count": 7,
     "metadata": {},
     "output_type": "execute_result"
    },
    {
     "data": {
      "image/png": "[encoded data removed]",
      "text/plain": [
       "<Figure size 640x480 with 1 Axes>"
      ]
     },
     "metadata": {},
     "output_type": "display_data"
    }
   ],
   "source": [
    "datos.plot.scatter(x='Age', y='Systolic blood pressure')\n",
    "plt.xlabel('Edad (agnos)')\n",
    "plt.ylabel('Presion  sistolica (mm de mercurio)')\n"
   ]
  },
  {
   "cell_type": "code",
   "execution_count": 8,
   "id": "39ed7d7f",
   "metadata": {},
   "outputs": [],
   "source": [
    "x=datos['Age'].values\n",
    "y=datos['Systolic blood pressure'].values\n"
   ]
  },
  {
   "cell_type": "code",
   "execution_count": 12,
   "id": "864ef167",
   "metadata": {},
   "outputs": [],
   "source": [
    "np.random.seed(2)\n",
    "w = np.random.randn(1)[0]\n",
    "b = np.random.randn(1)[0]\n",
    "\n",
    "alpha = 0.0004\n",
    "nits= 40000\n"
   ]
  },
  {
   "cell_type": "code",
   "execution_count": 14,
   "id": "988322c6",
   "metadata": {},
   "outputs": [
    {
     "name": "stdout",
     "output_type": "stream",
     "text": [
      "Epoch 1000\n",
      "     w: 1.0 b: 93.8\n",
      "     error: [1250.87900163]\n",
      "==============================\n",
      "Epoch 2000\n",
      "     w: 1.0 b: 94.0\n",
      "     error: [1248.41277216]\n",
      "==============================\n",
      "Epoch 3000\n",
      "     w: 1.0 b: 94.3\n",
      "     error: [1246.3218598]\n",
      "==============================\n",
      "Epoch 4000\n",
      "     w: 1.0 b: 94.5\n",
      "     error: [1244.54914784]\n",
      "==============================\n",
      "Epoch 5000\n",
      "     w: 1.0 b: 94.7\n",
      "     error: [1243.04621173]\n",
      "==============================\n",
      "Epoch 6000\n",
      "     w: 1.0 b: 94.9\n",
      "     error: [1241.77199628]\n",
      "==============================\n",
      "Epoch 7000\n",
      "     w: 1.0 b: 95.1\n",
      "     error: [1240.6916942]\n",
      "==============================\n",
      "Epoch 8000\n",
      "     w: 1.0 b: 95.2\n",
      "     error: [1239.77579526]\n",
      "==============================\n",
      "Epoch 9000\n",
      "     w: 1.0 b: 95.4\n",
      "     error: [1238.99928017]\n",
      "==============================\n",
      "Epoch 10000\n",
      "     w: 1.0 b: 95.5\n",
      "     error: [1238.34093713]\n",
      "==============================\n",
      "Epoch 11000\n",
      "     w: 1.0 b: 95.6\n",
      "     error: [1237.78278242]\n",
      "==============================\n",
      "Epoch 12000\n",
      "     w: 1.0 b: 95.7\n",
      "     error: [1237.30956913]\n",
      "==============================\n",
      "Epoch 13000\n",
      "     w: 1.0 b: 95.9\n",
      "     error: [1236.90837064]\n",
      "==============================\n",
      "Epoch 14000\n",
      "     w: 1.0 b: 96.0\n",
      "     error: [1236.56822757]\n",
      "==============================\n",
      "Epoch 15000\n",
      "     w: 1.0 b: 96.0\n",
      "     error: [1236.27984834]\n",
      "==============================\n",
      "Epoch 16000\n",
      "     w: 1.0 b: 96.1\n",
      "     error: [1236.0353554]\n",
      "==============================\n",
      "Epoch 17000\n",
      "     w: 1.0 b: 96.2\n",
      "     error: [1235.82807003]\n",
      "==============================\n",
      "Epoch 18000\n",
      "     w: 1.0 b: 96.3\n",
      "     error: [1235.65232987]\n",
      "==============================\n",
      "Epoch 19000\n",
      "     w: 1.0 b: 96.3\n",
      "     error: [1235.5033343]\n",
      "==============================\n",
      "Epoch 20000\n",
      "     w: 1.0 b: 96.4\n",
      "     error: [1235.37701325]\n",
      "==============================\n",
      "Epoch 21000\n",
      "     w: 1.0 b: 96.4\n",
      "     error: [1235.26991607]\n",
      "==============================\n",
      "Epoch 22000\n",
      "     w: 1.0 b: 96.5\n",
      "     error: [1235.17911721]\n",
      "==============================\n",
      "Epoch 23000\n",
      "     w: 1.0 b: 96.5\n",
      "     error: [1235.10213636]\n",
      "==============================\n",
      "Epoch 24000\n",
      "     w: 1.0 b: 96.6\n",
      "     error: [1235.03687064]\n",
      "==============================\n",
      "Epoch 25000\n",
      "     w: 1.0 b: 96.6\n",
      "     error: [1234.98153723]\n",
      "==============================\n",
      "Epoch 26000\n",
      "     w: 1.0 b: 96.7\n",
      "     error: [1234.9346246]\n",
      "==============================\n",
      "Epoch 27000\n",
      "     w: 1.0 b: 96.7\n",
      "     error: [1234.89485126]\n",
      "==============================\n",
      "Epoch 28000\n",
      "     w: 1.0 b: 96.7\n",
      "     error: [1234.86113072]\n",
      "==============================\n",
      "Epoch 29000\n",
      "     w: 1.0 b: 96.8\n",
      "     error: [1234.83254186]\n",
      "==============================\n",
      "Epoch 30000\n",
      "     w: 1.0 b: 96.8\n",
      "     error: [1234.80830373]\n",
      "==============================\n",
      "Epoch 31000\n",
      "     w: 1.0 b: 96.8\n",
      "     error: [1234.78775422]\n",
      "==============================\n",
      "Epoch 32000\n",
      "     w: 1.0 b: 96.8\n",
      "     error: [1234.77033199]\n",
      "==============================\n",
      "Epoch 33000\n",
      "     w: 1.0 b: 96.8\n",
      "     error: [1234.75556111]\n",
      "==============================\n",
      "Epoch 34000\n",
      "     w: 1.0 b: 96.9\n",
      "     error: [1234.74303811]\n",
      "==============================\n",
      "Epoch 35000\n",
      "     w: 1.0 b: 96.9\n",
      "     error: [1234.73242089]\n",
      "==============================\n",
      "Epoch 36000\n",
      "     w: 1.0 b: 96.9\n",
      "     error: [1234.72341942]\n",
      "==============================\n",
      "Epoch 37000\n",
      "     w: 1.0 b: 96.9\n",
      "     error: [1234.71578782]\n",
      "==============================\n",
      "Epoch 38000\n",
      "     w: 1.0 b: 96.9\n",
      "     error: [1234.70931762]\n",
      "==============================\n",
      "Epoch 39000\n",
      "     w: 1.0 b: 96.9\n",
      "     error: [1234.70383207]\n",
      "==============================\n",
      "Epoch 40000\n",
      "     w: 1.0 b: 96.9\n",
      "     error: [1234.69918132]\n",
      "==============================\n"
     ]
    }
   ],
   "source": [
    "error=np.zeros((nits,1))\n",
    "for i in range(nits):\n",
    "    [w,b]= gradiente_descendente(w,b,alpha,x,y)\n",
    "    y_= calcular_modelo(w,b,x)\n",
    "\n",
    "    error[i] = calcular_error(y,y_)\n",
    "\n",
    "    if (i+1)%1000==0:\n",
    "        print('Epoch {}'.format(i+1))\n",
    "        print('     w: {:.1f}'.format(w), 'b: {:.1f}'.format(b))\n",
    "        print('     error: {}'.format(error[i]))\n",
    "        print('==============================')"
   ]
  },
  {
   "cell_type": "code",
   "execution_count": 16,
   "id": "28a4be96",
   "metadata": {},
   "outputs": [
    {
     "data": {
      "text/plain": [
       "Text(0, 0.5, 'y')"
      ]
     },
     "execution_count": 16,
     "metadata": {},
     "output_type": "execute_result"
    },
    {
     "data": {
      "image/png": "[encoded data removed]",
      "text/plain": [
       "<Figure size 640x480 with 2 Axes>"
      ]
     },
     "metadata": {},
     "output_type": "display_data"
    }
   ],
   "source": [
    "plt.subplot(1,2,1)\n",
    "plt.plot(range(nits),error)\n",
    "plt.xlabel('epoch')\n",
    "plt.ylabel('ECM')\n",
    "\n",
    "y_regr= calcular_modelo(w,b,x)\n",
    "plt.subplot(1,2,2)\n",
    "plt.scatter(x,y)\n",
    "plt.plot(x,y_regr,'r')\n",
    "plt.xlabel('x')\n",
    "plt.ylabel('y')\n"
   ]
  },
  {
   "cell_type": "code",
   "execution_count": 17,
   "id": "eb65f6d4",
   "metadata": {},
   "outputs": [
    {
     "name": "stdout",
     "output_type": "stream",
     "text": [
      "A los 90  agnos se tendra una presion sanguinea de 182.6\n"
     ]
    }
   ],
   "source": [
    "edad=90\n",
    "presion= calcular_modelo(w,b,edad)\n",
    "print('A los {}'.format(edad), ' agnos se tendra una presion sanguinea de {:.1f}'.format(presion))"
   ]
  },
  {
   "cell_type": "code",
   "execution_count": null,
   "id": "e49a616e",
   "metadata": {},
   "outputs": [],
   "source": []
  }
 ],
 "metadata": {
  "kernelspec": {
   "display_name": "linear_regression",
   "language": "python",
   "name": "python3"
  },
  "language_info": {
   "codemirror_mode": {
    "name": "ipython",
    "version": 3
   },
   "file_extension": ".py",
   "mimetype": "text/x-python",
   "name": "python",
   "nbconvert_exporter": "python",
   "pygments_lexer": "ipython3",
   "version": "3.13.7"
  }
 },
 "nbformat": 4,
 "nbformat_minor": 5
}
